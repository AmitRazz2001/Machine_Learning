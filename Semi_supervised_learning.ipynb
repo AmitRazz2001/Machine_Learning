{
 "cells": [
  {
   "cell_type": "code",
   "execution_count": 1,
   "metadata": {},
   "outputs": [],
   "source": [
    "import pandas as pd\n",
    "import numpy as np\n",
    "import matplotlib.pyplot as plt\n",
    "\n",
    "\n",
    "from sklearn.cluster import KMeans"
   ]
  },
  {
   "cell_type": "code",
   "execution_count": 2,
   "metadata": {},
   "outputs": [
    {
     "data": {
      "text/html": [
       "<div>\n",
       "<style scoped>\n",
       "    .dataframe tbody tr th:only-of-type {\n",
       "        vertical-align: middle;\n",
       "    }\n",
       "\n",
       "    .dataframe tbody tr th {\n",
       "        vertical-align: top;\n",
       "    }\n",
       "\n",
       "    .dataframe thead th {\n",
       "        text-align: right;\n",
       "    }\n",
       "</style>\n",
       "<table border=\"1\" class=\"dataframe\">\n",
       "  <thead>\n",
       "    <tr style=\"text-align: right;\">\n",
       "      <th></th>\n",
       "      <th>x0</th>\n",
       "      <th>x1</th>\n",
       "      <th>x2</th>\n",
       "      <th>y0</th>\n",
       "      <th>y1</th>\n",
       "      <th>y2</th>\n",
       "    </tr>\n",
       "  </thead>\n",
       "  <tbody>\n",
       "    <tr>\n",
       "      <td>0</td>\n",
       "      <td>2.041678</td>\n",
       "      <td>3.767110</td>\n",
       "      <td>3.913574</td>\n",
       "      <td>2.365324</td>\n",
       "      <td>5.537058</td>\n",
       "      <td>4.393083</td>\n",
       "    </tr>\n",
       "    <tr>\n",
       "      <td>1</td>\n",
       "      <td>2.314526</td>\n",
       "      <td>2.450402</td>\n",
       "      <td>3.857780</td>\n",
       "      <td>2.737035</td>\n",
       "      <td>6.098962</td>\n",
       "      <td>4.503234</td>\n",
       "    </tr>\n",
       "    <tr>\n",
       "      <td>2</td>\n",
       "      <td>2.759912</td>\n",
       "      <td>3.366443</td>\n",
       "      <td>4.109445</td>\n",
       "      <td>1.855009</td>\n",
       "      <td>5.867509</td>\n",
       "      <td>3.781023</td>\n",
       "    </tr>\n",
       "    <tr>\n",
       "      <td>3</td>\n",
       "      <td>1.209159</td>\n",
       "      <td>1.853617</td>\n",
       "      <td>3.871556</td>\n",
       "      <td>1.714842</td>\n",
       "      <td>6.999464</td>\n",
       "      <td>3.969596</td>\n",
       "    </tr>\n",
       "    <tr>\n",
       "      <td>4</td>\n",
       "      <td>2.242801</td>\n",
       "      <td>2.289091</td>\n",
       "      <td>4.302049</td>\n",
       "      <td>2.140610</td>\n",
       "      <td>6.895419</td>\n",
       "      <td>3.631752</td>\n",
       "    </tr>\n",
       "  </tbody>\n",
       "</table>\n",
       "</div>"
      ],
      "text/plain": [
       "         x0        x1        x2        y0        y1        y2\n",
       "0  2.041678  3.767110  3.913574  2.365324  5.537058  4.393083\n",
       "1  2.314526  2.450402  3.857780  2.737035  6.098962  4.503234\n",
       "2  2.759912  3.366443  4.109445  1.855009  5.867509  3.781023\n",
       "3  1.209159  1.853617  3.871556  1.714842  6.999464  3.969596\n",
       "4  2.242801  2.289091  4.302049  2.140610  6.895419  3.631752"
      ]
     },
     "execution_count": 2,
     "metadata": {},
     "output_type": "execute_result"
    }
   ],
   "source": [
    "df = pd.read_csv(r\"normal-clusters.csv\")\n",
    "df.head()"
   ]
  },
  {
   "cell_type": "code",
   "execution_count": 3,
   "metadata": {},
   "outputs": [
    {
     "data": {
      "text/html": [
       "<div>\n",
       "<style scoped>\n",
       "    .dataframe tbody tr th:only-of-type {\n",
       "        vertical-align: middle;\n",
       "    }\n",
       "\n",
       "    .dataframe tbody tr th {\n",
       "        vertical-align: top;\n",
       "    }\n",
       "\n",
       "    .dataframe thead th {\n",
       "        text-align: right;\n",
       "    }\n",
       "</style>\n",
       "<table border=\"1\" class=\"dataframe\">\n",
       "  <thead>\n",
       "    <tr style=\"text-align: right;\">\n",
       "      <th></th>\n",
       "      <th>x0</th>\n",
       "      <th>y1</th>\n",
       "    </tr>\n",
       "  </thead>\n",
       "  <tbody>\n",
       "    <tr>\n",
       "      <td>0</td>\n",
       "      <td>2.041678</td>\n",
       "      <td>5.537058</td>\n",
       "    </tr>\n",
       "    <tr>\n",
       "      <td>1</td>\n",
       "      <td>2.314526</td>\n",
       "      <td>6.098962</td>\n",
       "    </tr>\n",
       "    <tr>\n",
       "      <td>2</td>\n",
       "      <td>2.759912</td>\n",
       "      <td>5.867509</td>\n",
       "    </tr>\n",
       "    <tr>\n",
       "      <td>3</td>\n",
       "      <td>1.209159</td>\n",
       "      <td>6.999464</td>\n",
       "    </tr>\n",
       "    <tr>\n",
       "      <td>4</td>\n",
       "      <td>2.242801</td>\n",
       "      <td>6.895419</td>\n",
       "    </tr>\n",
       "    <tr>\n",
       "      <td>...</td>\n",
       "      <td>...</td>\n",
       "      <td>...</td>\n",
       "    </tr>\n",
       "    <tr>\n",
       "      <td>395</td>\n",
       "      <td>1.760897</td>\n",
       "      <td>6.554903</td>\n",
       "    </tr>\n",
       "    <tr>\n",
       "      <td>396</td>\n",
       "      <td>1.254257</td>\n",
       "      <td>5.776763</td>\n",
       "    </tr>\n",
       "    <tr>\n",
       "      <td>397</td>\n",
       "      <td>2.561872</td>\n",
       "      <td>5.663111</td>\n",
       "    </tr>\n",
       "    <tr>\n",
       "      <td>398</td>\n",
       "      <td>1.949416</td>\n",
       "      <td>5.484451</td>\n",
       "    </tr>\n",
       "    <tr>\n",
       "      <td>399</td>\n",
       "      <td>2.101068</td>\n",
       "      <td>5.318367</td>\n",
       "    </tr>\n",
       "  </tbody>\n",
       "</table>\n",
       "<p>400 rows × 2 columns</p>\n",
       "</div>"
      ],
      "text/plain": [
       "           x0        y1\n",
       "0    2.041678  5.537058\n",
       "1    2.314526  6.098962\n",
       "2    2.759912  5.867509\n",
       "3    1.209159  6.999464\n",
       "4    2.242801  6.895419\n",
       "..        ...       ...\n",
       "395  1.760897  6.554903\n",
       "396  1.254257  5.776763\n",
       "397  2.561872  5.663111\n",
       "398  1.949416  5.484451\n",
       "399  2.101068  5.318367\n",
       "\n",
       "[400 rows x 2 columns]"
      ]
     },
     "execution_count": 3,
     "metadata": {},
     "output_type": "execute_result"
    }
   ],
   "source": [
    "X = df[[\"x0\",\"y1\"]]\n",
    "X"
   ]
  },
  {
   "cell_type": "code",
   "execution_count": 4,
   "metadata": {},
   "outputs": [],
   "source": [
    "# Elbow method\n",
    "\n",
    "wcss = []\n",
    "\n",
    "for i in range(1,20):\n",
    "    km = KMeans(n_clusters=i)\n",
    "    km.fit(X)\n",
    "    wcss.append(km.inertia_)"
   ]
  },
  {
   "cell_type": "code",
   "execution_count": 5,
   "metadata": {},
   "outputs": [
    {
     "data": {
      "text/plain": [
       "[149.53288478073236,\n",
       " 97.69630741659816,\n",
       " 66.62482233838197,\n",
       " 52.12250208687699,\n",
       " 42.91638908995634,\n",
       " 36.86241280644002,\n",
       " 31.828543458377506,\n",
       " 27.196803552659915,\n",
       " 24.859122870633264,\n",
       " 22.26353265877809,\n",
       " 20.42463874262185,\n",
       " 18.6083953741738,\n",
       " 17.528498466332852,\n",
       " 16.39569708365287,\n",
       " 14.819142416595305,\n",
       " 13.991450039220975,\n",
       " 13.128053267101343,\n",
       " 12.615790956797584,\n",
       " 11.76357185586816]"
      ]
     },
     "execution_count": 5,
     "metadata": {},
     "output_type": "execute_result"
    }
   ],
   "source": [
    "wcss"
   ]
  },
  {
   "cell_type": "code",
   "execution_count": 6,
   "metadata": {},
   "outputs": [
    {
     "data": {
      "text/plain": [
       "Text(0, 0.5, 'wcss')"
      ]
     },
     "execution_count": 6,
     "metadata": {},
     "output_type": "execute_result"
    },
    {
     "data": {
      "image/png": "[encoded data removed]",
      "text/plain": [
       "<Figure size 720x504 with 1 Axes>"
      ]
     },
     "metadata": {
      "needs_background": "light"
     },
     "output_type": "display_data"
    }
   ],
   "source": [
    "plt.figure(figsize=(10,7))\n",
    "plt.scatter(range(1,20),wcss,marker=\"*\",c=\"k\",s=234)\n",
    "plt.plot(range(1,20),wcss)\n",
    "plt.xlabel(\"K\")\n",
    "plt.ylabel(\"wcss\")"
   ]
  },
  {
   "cell_type": "code",
   "execution_count": 7,
   "metadata": {},
   "outputs": [
    {
     "data": {
      "text/plain": [
       "array([0, 2, 4, 3, 1, 4, 3, 0, 0, 2, 0, 1, 2, 3, 4, 3, 2, 3, 3, 4, 3, 0,\n",
       "       2, 2, 3, 2, 1, 1, 3, 2, 3, 3, 0, 0, 0, 1, 0, 2, 0, 4, 2, 4, 0, 4,\n",
       "       0, 4, 0, 0, 0, 2, 3, 2, 4, 4, 1, 2, 3, 4, 2, 2, 4, 0, 4, 4, 1, 3,\n",
       "       0, 0, 0, 2, 0, 3, 3, 0, 3, 2, 2, 2, 4, 4, 1, 2, 0, 2, 3, 2, 4, 3,\n",
       "       4, 0, 2, 4, 4, 4, 4, 0, 3, 4, 4, 0, 2, 2, 1, 2, 0, 2, 1, 2, 3, 2,\n",
       "       1, 4, 0, 4, 2, 4, 3, 2, 2, 3, 2, 4, 1, 0, 1, 3, 4, 3, 0, 4, 4, 0,\n",
       "       4, 1, 4, 4, 3, 1, 4, 3, 4, 0, 4, 2, 2, 4, 4, 0, 1, 2, 3, 1, 2, 2,\n",
       "       0, 4, 2, 0, 4, 3, 2, 4, 3, 4, 0, 0, 2, 2, 4, 3, 1, 1, 1, 2, 0, 2,\n",
       "       2, 4, 2, 4, 0, 0, 3, 0, 1, 3, 2, 3, 0, 2, 1, 2, 1, 4, 2, 4, 4, 2,\n",
       "       2, 4, 3, 0, 3, 0, 4, 3, 2, 4, 0, 0, 4, 3, 0, 2, 2, 3, 2, 4, 4, 1,\n",
       "       0, 3, 2, 4, 0, 2, 0, 1, 2, 0, 2, 1, 4, 0, 4, 4, 2, 2, 2, 3, 2, 3,\n",
       "       1, 2, 4, 0, 2, 0, 2, 2, 1, 3, 0, 3, 4, 2, 3, 0, 2, 4, 2, 3, 2, 3,\n",
       "       3, 4, 2, 3, 2, 2, 0, 2, 2, 4, 4, 4, 0, 0, 3, 2, 4, 1, 2, 2, 1, 0,\n",
       "       4, 0, 1, 2, 0, 0, 4, 1, 0, 3, 0, 3, 3, 4, 0, 1, 3, 0, 2, 2, 3, 1,\n",
       "       2, 3, 3, 4, 4, 2, 3, 0, 1, 3, 3, 0, 4, 2, 2, 2, 4, 2, 2, 0, 2, 2,\n",
       "       2, 2, 3, 1, 4, 0, 1, 4, 4, 0, 2, 1, 1, 2, 1, 0, 4, 2, 0, 3, 2, 4,\n",
       "       2, 0, 4, 0, 2, 2, 3, 3, 0, 2, 4, 3, 0, 0, 4, 0, 4, 2, 2, 4, 2, 3,\n",
       "       4, 4, 2, 3, 0, 2, 4, 3, 2, 0, 0, 2, 0, 0, 2, 4, 2, 0, 4, 1, 2, 2,\n",
       "       3, 4, 0, 0])"
      ]
     },
     "execution_count": 7,
     "metadata": {},
     "output_type": "execute_result"
    }
   ],
   "source": [
    "km = KMeans(n_clusters=5)\n",
    "km.fit_predict(X)"
   ]
  },
  {
   "cell_type": "code",
   "execution_count": 8,
   "metadata": {},
   "outputs": [
    {
     "name": "stderr",
     "output_type": "stream",
     "text": [
      "C:\\Users\\hp\\Anaconda3\\lib\\site-packages\\ipykernel_launcher.py:1: SettingWithCopyWarning: \n",
      "A value is trying to be set on a copy of a slice from a DataFrame.\n",
      "Try using .loc[row_indexer,col_indexer] = value instead\n",
      "\n",
      "See the caveats in the documentation: http://pandas.pydata.org/pandas-docs/stable/user_guide/indexing.html#returning-a-view-versus-a-copy\n",
      "  \"\"\"Entry point for launching an IPython kernel.\n"
     ]
    },
    {
     "data": {
      "text/html": [
       "<div>\n",
       "<style scoped>\n",
       "    .dataframe tbody tr th:only-of-type {\n",
       "        vertical-align: middle;\n",
       "    }\n",
       "\n",
       "    .dataframe tbody tr th {\n",
       "        vertical-align: top;\n",
       "    }\n",
       "\n",
       "    .dataframe thead th {\n",
       "        text-align: right;\n",
       "    }\n",
       "</style>\n",
       "<table border=\"1\" class=\"dataframe\">\n",
       "  <thead>\n",
       "    <tr style=\"text-align: right;\">\n",
       "      <th></th>\n",
       "      <th>x0</th>\n",
       "      <th>y1</th>\n",
       "      <th>cluster</th>\n",
       "    </tr>\n",
       "  </thead>\n",
       "  <tbody>\n",
       "    <tr>\n",
       "      <td>0</td>\n",
       "      <td>2.041678</td>\n",
       "      <td>5.537058</td>\n",
       "      <td>3</td>\n",
       "    </tr>\n",
       "    <tr>\n",
       "      <td>1</td>\n",
       "      <td>2.314526</td>\n",
       "      <td>6.098962</td>\n",
       "      <td>1</td>\n",
       "    </tr>\n",
       "    <tr>\n",
       "      <td>2</td>\n",
       "      <td>2.759912</td>\n",
       "      <td>5.867509</td>\n",
       "      <td>1</td>\n",
       "    </tr>\n",
       "    <tr>\n",
       "      <td>3</td>\n",
       "      <td>1.209159</td>\n",
       "      <td>6.999464</td>\n",
       "      <td>0</td>\n",
       "    </tr>\n",
       "    <tr>\n",
       "      <td>4</td>\n",
       "      <td>2.242801</td>\n",
       "      <td>6.895419</td>\n",
       "      <td>2</td>\n",
       "    </tr>\n",
       "    <tr>\n",
       "      <td>...</td>\n",
       "      <td>...</td>\n",
       "      <td>...</td>\n",
       "      <td>...</td>\n",
       "    </tr>\n",
       "    <tr>\n",
       "      <td>395</td>\n",
       "      <td>1.760897</td>\n",
       "      <td>6.554903</td>\n",
       "      <td>4</td>\n",
       "    </tr>\n",
       "    <tr>\n",
       "      <td>396</td>\n",
       "      <td>1.254257</td>\n",
       "      <td>5.776763</td>\n",
       "      <td>0</td>\n",
       "    </tr>\n",
       "    <tr>\n",
       "      <td>397</td>\n",
       "      <td>2.561872</td>\n",
       "      <td>5.663111</td>\n",
       "      <td>1</td>\n",
       "    </tr>\n",
       "    <tr>\n",
       "      <td>398</td>\n",
       "      <td>1.949416</td>\n",
       "      <td>5.484451</td>\n",
       "      <td>3</td>\n",
       "    </tr>\n",
       "    <tr>\n",
       "      <td>399</td>\n",
       "      <td>2.101068</td>\n",
       "      <td>5.318367</td>\n",
       "      <td>3</td>\n",
       "    </tr>\n",
       "  </tbody>\n",
       "</table>\n",
       "<p>400 rows × 3 columns</p>\n",
       "</div>"
      ],
      "text/plain": [
       "           x0        y1  cluster\n",
       "0    2.041678  5.537058        3\n",
       "1    2.314526  6.098962        1\n",
       "2    2.759912  5.867509        1\n",
       "3    1.209159  6.999464        0\n",
       "4    2.242801  6.895419        2\n",
       "..        ...       ...      ...\n",
       "395  1.760897  6.554903        4\n",
       "396  1.254257  5.776763        0\n",
       "397  2.561872  5.663111        1\n",
       "398  1.949416  5.484451        3\n",
       "399  2.101068  5.318367        3\n",
       "\n",
       "[400 rows x 3 columns]"
      ]
     },
     "execution_count": 8,
     "metadata": {},
     "output_type": "execute_result"
    }
   ],
   "source": [
    "X[\"cluster\"] = km.fit_predict(X)\n",
    "X"
   ]
  },
  {
   "cell_type": "code",
   "execution_count": 9,
   "metadata": {},
   "outputs": [
    {
     "data": {
      "text/plain": [
       "array([3, 1, 0, 2, 4], dtype=int64)"
      ]
     },
     "execution_count": 9,
     "metadata": {},
     "output_type": "execute_result"
    }
   ],
   "source": [
    "X.cluster.unique()"
   ]
  },
  {
   "cell_type": "code",
   "execution_count": 10,
   "metadata": {},
   "outputs": [
    {
     "data": {
      "text/plain": [
       "array([[1.38059502, 6.17732222],\n",
       "       [2.56678776, 5.86309975],\n",
       "       [2.26782642, 6.66855495],\n",
       "       [1.86853281, 5.49293857],\n",
       "       [1.96755578, 6.12853104]])"
      ]
     },
     "execution_count": 10,
     "metadata": {},
     "output_type": "execute_result"
    }
   ],
   "source": [
    "km.cluster_centers_"
   ]
  },
  {
   "cell_type": "code",
   "execution_count": 11,
   "metadata": {},
   "outputs": [],
   "source": [
    "c1 = X[X.cluster == 0]\n",
    "c2 = X[X.cluster == 1]\n",
    "c3 = X[X.cluster == 2]\n",
    "c4 = X[X.cluster == 3]\n",
    "c5 = X[X.cluster == 4]"
   ]
  },
  {
   "cell_type": "code",
   "execution_count": 12,
   "metadata": {},
   "outputs": [
    {
     "data": {
      "text/plain": [
       "<matplotlib.legend.Legend at 0x2046d39f888>"
      ]
     },
     "execution_count": 12,
     "metadata": {},
     "output_type": "execute_result"
    },
    {
     "data": {
      "image/png": "[encoded data removed]",
      "text/plain": [
       "<Figure size 720x504 with 1 Axes>"
      ]
     },
     "metadata": {
      "needs_background": "light"
     },
     "output_type": "display_data"
    }
   ],
   "source": [
    "plt.figure(figsize=(10,7))\n",
    "plt.scatter(c1[\"x0\"],c1[\"y1\"],label=\"CLUSTER 1\")\n",
    "plt.scatter(c2[\"x0\"],c2[\"y1\"],label=\"CLUSTER 2\")\n",
    "plt.scatter(c3[\"x0\"],c3[\"y1\"],label=\"CLUSTER 3\")\n",
    "plt.scatter(c4[\"x0\"],c4[\"y1\"],label=\"CLUSTER 4\")\n",
    "plt.scatter(c5[\"x0\"],c5[\"y1\"],label=\"CLUSTER 5\")\n",
    "plt.scatter(km.cluster_centers_[:,0],km.cluster_centers_[:,1],marker=\"*\",s = 234,c=\"k\",label=\"CENTROIDS\")\n",
    "plt.legend()"
   ]
  },
  {
   "cell_type": "code",
   "execution_count": 13,
   "metadata": {},
   "outputs": [
    {
     "data": {
      "text/html": [
       "<div>\n",
       "<style scoped>\n",
       "    .dataframe tbody tr th:only-of-type {\n",
       "        vertical-align: middle;\n",
       "    }\n",
       "\n",
       "    .dataframe tbody tr th {\n",
       "        vertical-align: top;\n",
       "    }\n",
       "\n",
       "    .dataframe thead th {\n",
       "        text-align: right;\n",
       "    }\n",
       "</style>\n",
       "<table border=\"1\" class=\"dataframe\">\n",
       "  <thead>\n",
       "    <tr style=\"text-align: right;\">\n",
       "      <th></th>\n",
       "      <th>x0</th>\n",
       "      <th>y1</th>\n",
       "      <th>cluster</th>\n",
       "    </tr>\n",
       "  </thead>\n",
       "  <tbody>\n",
       "    <tr>\n",
       "      <td>0</td>\n",
       "      <td>2.041678</td>\n",
       "      <td>5.537058</td>\n",
       "      <td>3</td>\n",
       "    </tr>\n",
       "    <tr>\n",
       "      <td>1</td>\n",
       "      <td>2.314526</td>\n",
       "      <td>6.098962</td>\n",
       "      <td>1</td>\n",
       "    </tr>\n",
       "    <tr>\n",
       "      <td>2</td>\n",
       "      <td>2.759912</td>\n",
       "      <td>5.867509</td>\n",
       "      <td>1</td>\n",
       "    </tr>\n",
       "    <tr>\n",
       "      <td>3</td>\n",
       "      <td>1.209159</td>\n",
       "      <td>6.999464</td>\n",
       "      <td>0</td>\n",
       "    </tr>\n",
       "    <tr>\n",
       "      <td>4</td>\n",
       "      <td>2.242801</td>\n",
       "      <td>6.895419</td>\n",
       "      <td>2</td>\n",
       "    </tr>\n",
       "    <tr>\n",
       "      <td>...</td>\n",
       "      <td>...</td>\n",
       "      <td>...</td>\n",
       "      <td>...</td>\n",
       "    </tr>\n",
       "    <tr>\n",
       "      <td>395</td>\n",
       "      <td>1.760897</td>\n",
       "      <td>6.554903</td>\n",
       "      <td>4</td>\n",
       "    </tr>\n",
       "    <tr>\n",
       "      <td>396</td>\n",
       "      <td>1.254257</td>\n",
       "      <td>5.776763</td>\n",
       "      <td>0</td>\n",
       "    </tr>\n",
       "    <tr>\n",
       "      <td>397</td>\n",
       "      <td>2.561872</td>\n",
       "      <td>5.663111</td>\n",
       "      <td>1</td>\n",
       "    </tr>\n",
       "    <tr>\n",
       "      <td>398</td>\n",
       "      <td>1.949416</td>\n",
       "      <td>5.484451</td>\n",
       "      <td>3</td>\n",
       "    </tr>\n",
       "    <tr>\n",
       "      <td>399</td>\n",
       "      <td>2.101068</td>\n",
       "      <td>5.318367</td>\n",
       "      <td>3</td>\n",
       "    </tr>\n",
       "  </tbody>\n",
       "</table>\n",
       "<p>400 rows × 3 columns</p>\n",
       "</div>"
      ],
      "text/plain": [
       "           x0        y1  cluster\n",
       "0    2.041678  5.537058        3\n",
       "1    2.314526  6.098962        1\n",
       "2    2.759912  5.867509        1\n",
       "3    1.209159  6.999464        0\n",
       "4    2.242801  6.895419        2\n",
       "..        ...       ...      ...\n",
       "395  1.760897  6.554903        4\n",
       "396  1.254257  5.776763        0\n",
       "397  2.561872  5.663111        1\n",
       "398  1.949416  5.484451        3\n",
       "399  2.101068  5.318367        3\n",
       "\n",
       "[400 rows x 3 columns]"
      ]
     },
     "execution_count": 13,
     "metadata": {},
     "output_type": "execute_result"
    }
   ],
   "source": [
    "X"
   ]
  },
  {
   "cell_type": "code",
   "execution_count": 15,
   "metadata": {},
   "outputs": [],
   "source": [
    "import seaborn as sn"
   ]
  },
  {
   "cell_type": "code",
   "execution_count": 16,
   "metadata": {},
   "outputs": [
    {
     "name": "stderr",
     "output_type": "stream",
     "text": [
      "C:\\Users\\hp\\Anaconda3\\lib\\site-packages\\statsmodels\\nonparametric\\kde.py:487: RuntimeWarning: invalid value encountered in true_divide\n",
      "  binned = fast_linbin(X, a, b, gridsize) / (delta * nobs)\n",
      "C:\\Users\\hp\\Anaconda3\\lib\\site-packages\\statsmodels\\nonparametric\\kdetools.py:34: RuntimeWarning: invalid value encountered in double_scalars\n",
      "  FAC1 = 2*(np.pi*bw/RANGE)**2\n"
     ]
    },
    {
     "data": {
      "text/plain": [
       "<seaborn.axisgrid.PairGrid at 0x2046d73af08>"
      ]
     },
     "execution_count": 16,
     "metadata": {},
     "output_type": "execute_result"
    },
    {
     "data": {
      "image/png": "[encoded data removed]",
      "text/plain": [
       "<Figure size 582.375x540 with 12 Axes>"
      ]
     },
     "metadata": {
      "needs_background": "light"
     },
     "output_type": "display_data"
    }
   ],
   "source": [
    "sn.pairplot(X,hue = \"cluster\")"
   ]
  },
  {
   "cell_type": "code",
   "execution_count": 17,
   "metadata": {},
   "outputs": [],
   "source": [
    "x = X.drop(\"cluster\",axis=1)\n",
    "y = X.cluster"
   ]
  },
  {
   "cell_type": "code",
   "execution_count": 18,
   "metadata": {},
   "outputs": [],
   "source": [
    "from sklearn.model_selection import train_test_split"
   ]
  },
  {
   "cell_type": "code",
   "execution_count": 19,
   "metadata": {},
   "outputs": [],
   "source": [
    "x_train,x_test,y_train,y_test = train_test_split(x,y,test_size=0.2)"
   ]
  },
  {
   "cell_type": "code",
   "execution_count": 20,
   "metadata": {},
   "outputs": [],
   "source": [
    "from sklearn.neighbors import KNeighborsClassifier"
   ]
  },
  {
   "cell_type": "code",
   "execution_count": 21,
   "metadata": {},
   "outputs": [
    {
     "data": {
      "text/plain": [
       "KNeighborsClassifier(algorithm='auto', leaf_size=30, metric='minkowski',\n",
       "                     metric_params=None, n_jobs=None, n_neighbors=5, p=2,\n",
       "                     weights='uniform')"
      ]
     },
     "execution_count": 21,
     "metadata": {},
     "output_type": "execute_result"
    }
   ],
   "source": [
    "knn = KNeighborsClassifier(n_neighbors=5)\n",
    "knn.fit(x_train,y_train)"
   ]
  },
  {
   "cell_type": "code",
   "execution_count": 22,
   "metadata": {},
   "outputs": [],
   "source": [
    "yp = knn.predict(x_test)"
   ]
  },
  {
   "cell_type": "code",
   "execution_count": 23,
   "metadata": {},
   "outputs": [
    {
     "data": {
      "text/plain": [
       "array([0, 3, 3, 4, 0, 3, 4, 1, 1, 1, 4, 3, 1, 1, 1, 1, 1, 0, 0, 0, 3, 4,\n",
       "       4, 1, 2, 1, 2, 4, 3, 3, 2, 4, 4, 1, 4, 2, 3, 1, 3, 4, 4, 4, 0, 0,\n",
       "       3, 4, 3, 1, 1, 0, 4, 4, 2, 3, 3, 3, 0, 1, 1, 1, 2, 4, 4, 4, 0, 3,\n",
       "       1, 4, 4, 4, 1, 3, 1, 0, 2, 1, 3, 2, 0, 3])"
      ]
     },
     "execution_count": 23,
     "metadata": {},
     "output_type": "execute_result"
    }
   ],
   "source": [
    "yp"
   ]
  },
  {
   "cell_type": "code",
   "execution_count": 25,
   "metadata": {},
   "outputs": [
    {
     "data": {
      "text/plain": [
       "array([[11,  0,  0,  0,  1],\n",
       "       [ 0, 21,  0,  0,  0],\n",
       "       [ 0,  0,  8,  0,  0],\n",
       "       [ 1,  0,  0, 18,  0],\n",
       "       [ 0,  0,  0,  0, 20]], dtype=int64)"
      ]
     },
     "execution_count": 25,
     "metadata": {},
     "output_type": "execute_result"
    }
   ],
   "source": [
    "from sklearn.metrics import confusion_matrix,accuracy_score,classification_report\n",
    "cm = confusion_matrix(y_test,yp)\n",
    "cm"
   ]
  },
  {
   "cell_type": "code",
   "execution_count": 26,
   "metadata": {},
   "outputs": [
    {
     "name": "stdout",
     "output_type": "stream",
     "text": [
      "              precision    recall  f1-score   support\n",
      "\n",
      "           0       0.92      0.92      0.92        12\n",
      "           1       1.00      1.00      1.00        21\n",
      "           2       1.00      1.00      1.00         8\n",
      "           3       1.00      0.95      0.97        19\n",
      "           4       0.95      1.00      0.98        20\n",
      "\n",
      "    accuracy                           0.97        80\n",
      "   macro avg       0.97      0.97      0.97        80\n",
      "weighted avg       0.98      0.97      0.97        80\n",
      "\n"
     ]
    }
   ],
   "source": [
    "print(classification_report(y_test,yp))"
   ]
  },
  {
   "cell_type": "code",
   "execution_count": null,
   "metadata": {},
   "outputs": [],
   "source": []
  }
 ],
 "metadata": {
  "kernelspec": {
   "display_name": "Python 3",
   "language": "python",
   "name": "python3"
  },
  "language_info": {
   "codemirror_mode": {
    "name": "ipython",
    "version": 3
   },
   "file_extension": ".py",
   "mimetype": "text/x-python",
   "name": "python",
   "nbconvert_exporter": "python",
   "pygments_lexer": "ipython3",
   "version": "3.7.4"
  }
 },
 "nbformat": 4,
 "nbformat_minor": 2
}
